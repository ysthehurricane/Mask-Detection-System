{
 "cells": [
  {
   "cell_type": "code",
   "execution_count": 1,
   "metadata": {},
   "outputs": [
    {
     "name": "stderr",
     "output_type": "stream",
     "text": [
      "Using TensorFlow backend.\n"
     ]
    }
   ],
   "source": [
    "\n",
    "import os\n",
    "import numpy as np\n",
    "import cv2\n",
    "import tensorflow as tf\n",
    "from keras.preprocessing import image"
   ]
  },
  {
   "cell_type": "code",
   "execution_count": 2,
   "metadata": {},
   "outputs": [
    {
     "data": {
      "text/plain": [
       "'G:\\\\AI\\\\opencv\\\\Face-Mask-Detection-master\\\\face detection - Yash\\\\data\\\\haarcascades'"
      ]
     },
     "execution_count": 2,
     "metadata": {},
     "output_type": "execute_result"
    }
   ],
   "source": [
    "current = os.getcwd()\n",
    "datapath = os.path.join(current,\"data\")\n",
    "filepath = os.path.join(datapath,\"haarcascades\")\n",
    "filepath"
   ]
  },
  {
   "cell_type": "code",
   "execution_count": 3,
   "metadata": {},
   "outputs": [],
   "source": [
    "datapath = os.path.join(os.getcwd(),\"dataset\")\n",
    "traindata = os.path.join(datapath,\"train\")\n",
    "valdata = os.path.join(datapath,\"val\")\n",
    "\n",
    "train_with_mask = os.path.join(traindata,\"with_mask\")\n",
    "val_with_mask = os.path.join(valdata,\"with_mask\")\n",
    "train_without_mask = os.path.join(traindata,\"without_mask\")\n",
    "val_without_mask = os.path.join(valdata,\"without_mask\")"
   ]
  },
  {
   "cell_type": "code",
   "execution_count": 4,
   "metadata": {},
   "outputs": [],
   "source": [
    "face_cascade = cv2.CascadeClassifier(filepath + '/haarcascade_frontalface_default.xml')"
   ]
  },
  {
   "cell_type": "code",
   "execution_count": 5,
   "metadata": {},
   "outputs": [],
   "source": [
    "new_model = tf.keras.models.load_model('trainmodel')\n",
    "#new_model.summary()"
   ]
  },
  {
   "cell_type": "code",
   "execution_count": 6,
   "metadata": {},
   "outputs": [],
   "source": [
    "cap = cv2.VideoCapture(0)                            \n",
    "\n",
    "while True:                                     \n",
    "\n",
    "    ret, frame = cap.read()                             \n",
    "    gray = cv2.cvtColor(frame, cv2.COLOR_BGR2GRAY)   \n",
    "    \n",
    "    faces = face_cascade.detectMultiScale(gray,1.3, 5)\n",
    "    \n",
    "    for (x,y,w,h) in faces:\n",
    "        \n",
    "        img = cv2.rectangle(frame, (x,y), (x+w,y+h), (0,0,255), 2)\n",
    "        \n",
    "        roi_color = img[y:y+h, x:x+w]\n",
    "        roi = cv2.resize(roi_color, (80,80))\n",
    "        \n",
    "        xy = image.img_to_array(roi)\n",
    "        xi = np.expand_dims(xy, axis=0)\n",
    "        im = np.vstack([xi])\n",
    "        classes = new_model.predict(im)\n",
    "        \n",
    "        if classes[0][0] == 1.0 :\n",
    "            img = cv2.rectangle(frame, (x,y), (x+w,y+h), (255,140,0), 2)\n",
    "           \n",
    "        else:\n",
    "            img = cv2.rectangle(frame, (x,y), (x+w,y+h), (0,0,255), 2)\n",
    "            cv2.putText(frame, \"Please wear mask\", (x,y+h), cv2.FONT_HERSHEY_PLAIN, 1, (255,255,0), 1, cv2.LINE_AA)\n",
    "            \n",
    "        \n",
    "\n",
    "    cv2.imshow('Mask Detection System' , frame)  \n",
    "    \n",
    "    if cv2.waitKey(20) & 0xFF == ord('q'):\n",
    "        break\n",
    "\n",
    "cap.release()\n",
    "cv2.destroyAllWindows()"
   ]
  },
  {
   "cell_type": "code",
   "execution_count": null,
   "metadata": {},
   "outputs": [],
   "source": []
  }
 ],
 "metadata": {
  "kernelspec": {
   "display_name": "Python 3",
   "language": "python",
   "name": "python3"
  },
  "language_info": {
   "codemirror_mode": {
    "name": "ipython",
    "version": 3
   },
   "file_extension": ".py",
   "mimetype": "text/x-python",
   "name": "python",
   "nbconvert_exporter": "python",
   "pygments_lexer": "ipython3",
   "version": "3.5.4"
  }
 },
 "nbformat": 4,
 "nbformat_minor": 4
}
