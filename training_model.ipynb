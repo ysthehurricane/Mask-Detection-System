{
 "cells": [
  {
   "cell_type": "code",
   "execution_count": 12,
   "metadata": {},
   "outputs": [],
   "source": [
    "import tensorflow as tf\n",
    "from tensorflow.keras.preprocessing.image import ImageDataGenerator\n",
    "from tensorflow.keras.optimizers import  RMSprop\n",
    "from keras.preprocessing import image\n",
    "from keras.models import model_from_yaml\n",
    "\n",
    "import os\n",
    "import cv2\n",
    "import numpy as np\n",
    "import matplotlib.pyplot as plt\n",
    "%matplotlib inline"
   ]
  },
  {
   "cell_type": "code",
   "execution_count": 2,
   "metadata": {},
   "outputs": [],
   "source": [
    "datapath = os.path.join(os.getcwd(),\"dataset\")\n",
    "traindata = os.path.join(datapath,\"train\")\n",
    "valdata = os.path.join(datapath,\"val\")\n",
    "\n",
    "train_with_mask = os.path.join(traindata,\"with_mask\")\n",
    "val_with_mask = os.path.join(valdata,\"with_mask\")\n",
    "train_without_mask = os.path.join(traindata,\"without_mask\")\n",
    "val_without_mask = os.path.join(valdata,\"without_mask\")\n"
   ]
  },
  {
   "cell_type": "code",
   "execution_count": 3,
   "metadata": {},
   "outputs": [],
   "source": [
    "model = tf.keras.models.Sequential([\n",
    "    tf.keras.layers.Conv2D(1024, (3,3), activation='relu',input_shape= (80,80,3)),\n",
    "    tf.keras.layers.MaxPooling2D(2,2),\n",
    "    tf.keras.layers.Conv2D(512, (3,3), activation='relu'),\n",
    "    tf.keras.layers.MaxPooling2D(2,2),\n",
    "    tf.keras.layers.Conv2D(256, (3,3), activation='relu'),\n",
    "    tf.keras.layers.MaxPooling2D(2,2),\n",
    "    tf.keras.layers.Conv2D(128, (3,3), activation='relu'),\n",
    "    tf.keras.layers.MaxPooling2D(2,2),\n",
    "    tf.keras.layers.Dropout(0.20),\n",
    "    tf.keras.layers.Flatten(),\n",
    "    tf.keras.layers.Dense(128, activation='relu'),\n",
    "    tf.keras.layers.Dense(64, activation='relu'),\n",
    "    tf.keras.layers.Dense(1,activation='sigmoid')\n",
    "])"
   ]
  },
  {
   "cell_type": "code",
   "execution_count": 4,
   "metadata": {},
   "outputs": [],
   "source": [
    "\n",
    "model.compile(optimizer = RMSprop(lr=0.0001), \n",
    "              loss = 'binary_crossentropy', \n",
    "              metrics = ['acc'])"
   ]
  },
  {
   "cell_type": "code",
   "execution_count": 5,
   "metadata": {},
   "outputs": [],
   "source": [
    "#callbacks = myCallback()"
   ]
  },
  {
   "cell_type": "code",
   "execution_count": 6,
   "metadata": {},
   "outputs": [],
   "source": [
    "train_datagen = ImageDataGenerator(\n",
    "      rescale=1./255,\n",
    "      rotation_range=20,\n",
    "      width_shift_range=0.2,\n",
    "      height_shift_range=0.2,\n",
    "      shear_range=0.2,\n",
    "      zoom_range=0.2,\n",
    "      horizontal_flip=True,\n",
    "      fill_mode='nearest')\n",
    "\n",
    "val_datagen = ImageDataGenerator(rescale=1/255)"
   ]
  },
  {
   "cell_type": "code",
   "execution_count": 7,
   "metadata": {},
   "outputs": [
    {
     "name": "stdout",
     "output_type": "stream",
     "text": [
      "Found 2996 images belonging to 2 classes.\n",
      "Found 834 images belonging to 2 classes.\n"
     ]
    }
   ],
   "source": [
    "train_generator = train_datagen.flow_from_directory(\n",
    "    traindata,\n",
    "    target_size=(80,80),\n",
    "    batch_size= 32,\n",
    "    class_mode='binary'\n",
    ")\n",
    "\n",
    "val_generator = val_datagen.flow_from_directory(\n",
    "    valdata,\n",
    "    target_size=(80,80),\n",
    "    batch_size=16,\n",
    "    class_mode='binary'\n",
    ")"
   ]
  },
  {
   "cell_type": "code",
   "execution_count": 8,
   "metadata": {},
   "outputs": [
    {
     "name": "stdout",
     "output_type": "stream",
     "text": [
      "Epoch 1/10\n",
      "20/20 [==============================] - 267s 13s/step - loss: 0.6897 - acc: 0.5453 - val_loss: 0.6491 - val_acc: 0.6250\n",
      "Epoch 2/10\n",
      "20/20 [==============================] - 273s 14s/step - loss: 0.5810 - acc: 0.7375 - val_loss: 0.3601 - val_acc: 0.8687\n",
      "Epoch 3/10\n",
      "20/20 [==============================] - 259s 13s/step - loss: 0.4906 - acc: 0.7787 - val_loss: 0.3052 - val_acc: 0.8625\n",
      "Epoch 4/10\n",
      "20/20 [==============================] - 264s 13s/step - loss: 0.4356 - acc: 0.8234 - val_loss: 0.2489 - val_acc: 0.9187\n",
      "Epoch 5/10\n",
      "20/20 [==============================] - 266s 13s/step - loss: 0.3891 - acc: 0.8422 - val_loss: 0.1834 - val_acc: 0.9438\n",
      "Epoch 6/10\n",
      "18/20 [==========================>...] - ETA: 28s - loss: 0.3202 - acc: 0.8819"
     ]
    },
    {
     "name": "stderr",
     "output_type": "stream",
     "text": [
      "c:\\users\\yash patel\\appdata\\local\\programs\\python\\python35\\lib\\site-packages\\PIL\\Image.py:969: UserWarning: Palette images with Transparency   expressed in bytes should be converted to RGBA images\n",
      "  'to RGBA images')\n"
     ]
    },
    {
     "name": "stdout",
     "output_type": "stream",
     "text": [
      "20/20 [==============================] - 303s 15s/step - loss: 0.3134 - acc: 0.8844 - val_loss: 0.2096 - val_acc: 0.9312\n",
      "Epoch 7/10\n",
      "20/20 [==============================] - 287s 14s/step - loss: 0.3541 - acc: 0.8547 - val_loss: 0.2188 - val_acc: 0.9312\n",
      "Epoch 8/10\n",
      "20/20 [==============================] - 259s 13s/step - loss: 0.3430 - acc: 0.8678 - val_loss: 0.2034 - val_acc: 0.9438\n",
      "Epoch 9/10\n",
      "20/20 [==============================] - 277s 14s/step - loss: 0.3259 - acc: 0.8734 - val_loss: 0.1597 - val_acc: 0.9563\n",
      "Epoch 10/10\n",
      "20/20 [==============================] - 284s 14s/step - loss: 0.3453 - acc: 0.8567 - val_loss: 0.2295 - val_acc: 0.9187\n"
     ]
    }
   ],
   "source": [
    "history = model.fit(\n",
    "      train_generator,\n",
    "      steps_per_epoch=20,  \n",
    "      epochs=10,\n",
    "      verbose=1,\n",
    "      validation_data = val_generator,\n",
    "      validation_steps=10\n",
    "    )"
   ]
  },
  {
   "cell_type": "code",
   "execution_count": 10,
   "metadata": {},
   "outputs": [
    {
     "data": {
      "image/png": "[encoded data removed]",
      "text/plain": [
       "<Figure size 432x288 with 1 Axes>"
      ]
     },
     "metadata": {
      "needs_background": "light"
     },
     "output_type": "display_data"
    },
    {
     "data": {
      "image/png": "[encoded data removed]",
      "text/plain": [
       "<Figure size 432x288 with 1 Axes>"
      ]
     },
     "metadata": {
      "needs_background": "light"
     },
     "output_type": "display_data"
    }
   ],
   "source": [
    "acc = history.history['acc']\n",
    "val_acc = history.history['val_acc']\n",
    "loss = history.history['loss']\n",
    "val_loss = history.history['val_acc']\n",
    "\n",
    "epochs = range(len(acc))\n",
    "\n",
    "plt.plot(epochs, acc, 'r', label=\"Training accuracy\")\n",
    "plt.plot(epochs, val_acc, 'b', label=\"Validation accuracy\")\n",
    "plt.title(\"Training and Validation accuracy\")\n",
    "\n",
    "plt.figure()\n",
    "\n",
    "plt.plot(epochs, loss, 'r', label=\"Training loss\")\n",
    "plt.plot(epochs, val_loss, 'b', label=\"Validation loss\")\n",
    "plt.title(\"Training and Validation loss\")\n",
    "\n",
    "plt.legend()\n",
    "plt.show()"
   ]
  },
  {
   "cell_type": "code",
   "execution_count": 15,
   "metadata": {},
   "outputs": [
    {
     "name": "stdout",
     "output_type": "stream",
     "text": [
      "[[1.]]\n"
     ]
    }
   ],
   "source": [
    "path = os.path.join(train_without_mask,\"215.jpg\")\n",
    "img = image.load_img(path, target_size=(80,80,3))\n",
    "xy = image.img_to_array(img)\n",
    "x = np.expand_dims(xy, axis=0)\n",
    "\n",
    "im = np.vstack([x])\n",
    "classes = model.predict(im)\n",
    "print(classes)"
   ]
  },
  {
   "cell_type": "code",
   "execution_count": 17,
   "metadata": {},
   "outputs": [
    {
     "name": "stdout",
     "output_type": "stream",
     "text": [
      "INFO:tensorflow:Assets written to: trainmodel\\assets\n"
     ]
    }
   ],
   "source": [
    "model.save(\"trainmodel\")"
   ]
  },
  {
   "cell_type": "code",
   "execution_count": null,
   "metadata": {},
   "outputs": [],
   "source": []
  }
 ],
 "metadata": {
  "kernelspec": {
   "display_name": "Python 3",
   "language": "python",
   "name": "python3"
  },
  "language_info": {
   "codemirror_mode": {
    "name": "ipython",
    "version": 3
   },
   "file_extension": ".py",
   "mimetype": "text/x-python",
   "name": "python",
   "nbconvert_exporter": "python",
   "pygments_lexer": "ipython3",
   "version": "3.5.4"
  }
 },
 "nbformat": 4,
 "nbformat_minor": 4
}
